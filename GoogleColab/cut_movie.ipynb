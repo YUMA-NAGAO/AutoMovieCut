{
 "cells": [
  {
   "cell_type": "markdown",
   "metadata": {
    "id": "SuJQozI1IIQU"
   },
   "source": [
    "■環境構築方法\n",
    "\n",
    "1.GoogleドライブMyDrive内にcut_movieフォルダを作成\n",
    "\n",
    "2.cut_movieフォルダ内にinputフォルダ・outputフォルダを作成\n",
    "\n",
    "3.inputフォルダ内に対象の動画をアップロード\n",
    "\n",
    "4.コードを実行\n",
    "\n",
    "■確認事項\n",
    "\n",
    "・ランライムのタイプがGPUになっていることを確認\n",
    "\n",
    "・GPUの使用確認時にh264_nvencがあることを確認\n"
   ]
  },
  {
   "cell_type": "code",
   "execution_count": null,
   "metadata": {
    "id": "9b-8OlaukWX1"
   },
   "outputs": [],
   "source": [
    "#ffmpegのインストール\n",
    "!git clone https://github.com/rokibulislaam/colab-ffmpeg-cuda.git\n",
    "!cp -r ./colab-ffmpeg-cuda/bin/. /usr/bin/\n",
    "\n",
    "#バージョン確認\n",
    "!ffmpeg -version\n",
    "#GPU使用可能状態かの確認\n",
    "!ffmpeg -encoders | grep nvenc\n",
    "\n",
    "#マウント\n",
    "from google.colab import drive\n",
    "drive.mount('/content/drive')"
   ]
  },
  {
   "cell_type": "code",
   "execution_count": null,
   "metadata": {
    "id": "rqFL0Jk6lpvv"
   },
   "outputs": [],
   "source": [
    "import subprocess\n",
    "import os\n",
    "import glob\n",
    "\n",
    "mount_dir=\"./drive/MyDrive/cut_movie/\"\n",
    "\n",
    "input_dir=os.path.join(mount_dir,\"input\")\n",
    "output_dir=os.path.join(mount_dir,\"output\")\n",
    "\n",
    "def get_movie(wk_dir):\n",
    "    files = glob.glob(os.path.join(wk_dir,\"*\"))\n",
    "    files = [x for x in files if x[-4:] == \".MOV\" or x[-4:] == \".mp4\"]\n",
    "    return files\n",
    "\n",
    "\n",
    "def cut_silent(movie, dB):\n",
    "    output = subprocess.run([\"ffmpeg\", \"-i\",  movie,\"-vcodec\", \"h264_nvenc\", \"-af\", \"silencedetect=noise={}dB:d=0.3\".format(dB), \"-f\", \"null\", \"-\"], stdout=subprocess.PIPE, stderr=subprocess.PIPE)\n",
    "    ss = str(output)\n",
    "    lines = ss.replace(\"\\\\r\", \"\")\n",
    "    lines = lines.split('\\\\n')\n",
    "    time_list = []\n",
    "    for line in lines:\n",
    "        if \"silencedetect\" in line:\n",
    "            words = line.split(\" \")\n",
    "            for i in range(len(words)):\n",
    "                if \"silence_start\" in words[i]:\n",
    "                    time_list.append(float(words[i+1]))\n",
    "                if \"silence_end\" in words[i]:\n",
    "                    time_list.append(float(words[i + 1]))\n",
    "    silence_section_list = list(zip(*[iter(time_list)]*2))\n",
    "    movie_name = os.path.basename(movie).split(\".\")\n",
    "    if str(silence_section_list[0][0]) != \"0.0\":\n",
    "        split_file1 = os.path.join(output_dir, movie_name[0] + \"_0\" + \".mp4\")\n",
    "        subprocess.run([\"ffmpeg\", \"-ss\", str(0), \"-i\", movie,\"-vcodec\", \"h264_nvenc\", \"-t\", str(silence_section_list[1][0]), split_file1], stdout=subprocess.PIPE, stderr=subprocess.PIPE)\n",
    "    for i in range(len(silence_section_list) - 1):\n",
    "        split_file = os.path.join(output_dir, movie_name[0] + \"_\" + str(i+1) + \".mp4\")\n",
    "        subprocess.run([\"ffmpeg\", \"-ss\", str(silence_section_list[i][1]), \"-i\", movie,\"-vcodec\", \"h264_nvenc\", \"-t\", str(silence_section_list[i+1][0]-silence_section_list[i][1]), split_file], stdout=subprocess.PIPE, stderr=subprocess.PIPE)\n",
    "        print(movie_name[0] + \"_\" + str(i+1) + \".mp4\")\n",
    "\n",
    "if __name__ == \"__main__\":\n",
    "    \n",
    "    movie_list = get_movie(input_dir)\n",
    "\n",
    "    for movie in movie_list:\n",
    "        print(\"処理する動画\")\n",
    "        print(movie)\n",
    "        dB = input(\"カットする音量の閾値を入力(dB)、デフォルトの場合はそのままエンター ※デフォルト-33dB>\", )\n",
    "        if dB == \"\":\n",
    "            dB = \"-33\"\n",
    "        cut_silent(movie, dB)\n",
    "    \n",
    "    \n",
    "    movie_list = get_movie(output_dir)\n",
    "    for movie in movie_list:\n",
    "        cut_file = subprocess.run([\"ffmpeg\", \"-i\", movie,\"-vcodec\", \"h264_nvenc\", \"-f\", \"null\", \"-\"], stdout=subprocess.PIPE, stderr=subprocess.PIPE)\n",
    "        s = str(cut_file)\n",
    "        lines1 = s.replace(\"\\\\r\", \"\")\n",
    "        lines1 = lines1.split('\\\\n')\n",
    "        for line in lines1:\n",
    "            if \"Duration\" in line:\n",
    "                words = line.split(\" \")\n",
    "                word = words[3].split(\":\")[2]\n",
    "                word = word.replace(\",\", \"\")\n",
    "                if float(word) < 0.5:\n",
    "                    os.remove(movie)"
   ]
  }
 ],
 "metadata": {
  "accelerator": "GPU",
  "colab": {
   "collapsed_sections": [],
   "name": "cut_movie.ipynb",
   "provenance": [],
   "toc_visible": true
  },
  "kernelspec": {
   "display_name": "Python 3",
   "language": "python",
   "name": "python3"
  },
  "language_info": {
   "codemirror_mode": {
    "name": "ipython",
    "version": 3
   },
   "file_extension": ".py",
   "mimetype": "text/x-python",
   "name": "python",
   "nbconvert_exporter": "python",
   "pygments_lexer": "ipython3",
   "version": "3.8.5"
  }
 },
 "nbformat": 4,
 "nbformat_minor": 1
}
